{
 "cells": [
  {
   "cell_type": "code",
   "execution_count": null,
   "metadata": {},
   "outputs": [],
   "source": [
    "import requests\n",
    "import pandas as pd\n",
    "\n",
    "technological_companies = ['MSFT','AAPL','AMZN','GOOG','IBM','CSCO','ORCL','SAP','IBM']\n",
    "companies = technological_companies\n",
    "all_Receivables = {} \n",
    "\n",
    "\n",
    "for company in companies:\n",
    "  try:\n",
    "    balanceSheet = requests.get(f'https://financialmodelingprep.com/api/v3/financials/balance-sheet-statement/{company}?period=quarter')\n",
    "    balanceSheet = balanceSheet.json()\n",
    "    all_Receivables[company] = {}\n",
    "    for item in balanceSheet['financials']:\n",
    "      receivables = item['Receivables']\n",
    "      all_Receivables[company]['receivables'] = receivables\n",
    "\n",
    "    IS = requests.get(f'https://financialmodelingprep.com/api/v3/financials/income-statement/{company}?period=quarter')\n",
    "    IS = IS.json()\n",
    "    for item in IS['financials']:\n",
    "      revenues = item['Revenue']\n",
    "      all_Receivables[company]['Revenue'] = revenues\n",
    "    \n",
    "    all_Receivables[company]['receivables_to_sales'] = float(receivables)/float(revenues)\n",
    "  except:\n",
    "    pass\n",
    "\n",
    "\n",
    "receivables_companies = pd.DataFrame.from_dict(all_Receivables, orient='index')\n",
    "receivables_companies = receivables_companies.T\n",
    "\n",
    "receivables_companies = receivables_companies[receivables_companies.index =='receivables_to_sales'] \n",
    "receivables_companies = receivables_companies.T.reset_index()\n",
    "\n",
    "import plotly.express as px\n",
    "fig = px.bar(receivables_companies, x=receivables_companies['index'],y =receivables_companies['receivables_to_sales'])\n",
    "fig.show()"
   ]
  }
 ],
 "metadata": {
  "kernelspec": {
   "display_name": "Python 3",
   "language": "python",
   "name": "python3"
  },
  "language_info": {
   "codemirror_mode": {
    "name": "ipython",
    "version": 3
   },
   "file_extension": ".py",
   "mimetype": "text/x-python",
   "name": "python",
   "nbconvert_exporter": "python",
   "pygments_lexer": "ipython3",
   "version": "3.7.6"
  }
 },
 "nbformat": 4,
 "nbformat_minor": 4
}
