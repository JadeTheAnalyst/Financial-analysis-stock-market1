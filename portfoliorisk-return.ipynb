{
 "cells": [
  {
   "cell_type": "code",
   "execution_count": 1,
   "metadata": {},
   "outputs": [
    {
     "ename": "KeyError",
     "evalue": "'historical'",
     "output_type": "error",
     "traceback": [
      "\u001b[1;31m---------------------------------------------------------------------------\u001b[0m",
      "\u001b[1;31mKeyError\u001b[0m                                  Traceback (most recent call last)",
      "\u001b[1;32m<ipython-input-1-dab3c9d474b4>\u001b[0m in \u001b[0;36m<module>\u001b[1;34m\u001b[0m\n\u001b[0;32m     16\u001b[0m   \u001b[0mprices\u001b[0m \u001b[1;33m=\u001b[0m \u001b[0mrequests\u001b[0m\u001b[1;33m.\u001b[0m\u001b[0mget\u001b[0m\u001b[1;33m(\u001b[0m\u001b[1;34mf'https://financialmodelingprep.com/api/v3/historical-price-full/{stock}?apikey=55b3910e5499a54e95a18a62371136b7'\u001b[0m\u001b[1;33m)\u001b[0m\u001b[1;33m.\u001b[0m\u001b[0mjson\u001b[0m\u001b[1;33m(\u001b[0m\u001b[1;33m)\u001b[0m\u001b[1;33m\u001b[0m\u001b[1;33m\u001b[0m\u001b[0m\n\u001b[0;32m     17\u001b[0m \u001b[1;33m\u001b[0m\u001b[0m\n\u001b[1;32m---> 18\u001b[1;33m   \u001b[0mprices\u001b[0m \u001b[1;33m=\u001b[0m \u001b[0mprices\u001b[0m\u001b[1;33m[\u001b[0m\u001b[1;34m'historical'\u001b[0m\u001b[1;33m]\u001b[0m\u001b[1;33m[\u001b[0m\u001b[1;33m-\u001b[0m\u001b[1;36m900\u001b[0m\u001b[1;33m:\u001b[0m\u001b[1;33m]\u001b[0m\u001b[1;33m\u001b[0m\u001b[1;33m\u001b[0m\u001b[0m\n\u001b[0m\u001b[0;32m     19\u001b[0m \u001b[1;33m\u001b[0m\u001b[0m\n\u001b[0;32m     20\u001b[0m   \u001b[0mprices\u001b[0m \u001b[1;33m=\u001b[0m \u001b[0mpd\u001b[0m\u001b[1;33m.\u001b[0m\u001b[0mDataFrame\u001b[0m\u001b[1;33m(\u001b[0m\u001b[0mprices\u001b[0m\u001b[1;33m)\u001b[0m\u001b[1;33m\u001b[0m\u001b[1;33m\u001b[0m\u001b[0m\n",
      "\u001b[1;31mKeyError\u001b[0m: 'historical'"
     ]
    }
   ],
   "source": [
    "import requests\n",
    "import pandas as pd\n",
    "import numpy as np\n",
    "import os\n",
    "apikey = os.environ.get('apikey')\n",
    "\n",
    "#Variables\n",
    "stocks = ['NVS','AAPL','MSFT','GOOG']\n",
    "initial_weight = np.array([0.20,0.30,0.30,0.20])\n",
    "empresas = {}\n",
    "\n",
    "\n",
    "#Get all prices into a dataframe\n",
    "for stock in stocks:\n",
    "\n",
    "  prices = requests.get(f'https://financialmodelingprep.com/api/v3/historical-price-full/{stock}?apikey=55b3910e5499a54e95a18a62371136b7').json()\n",
    "\n",
    "  prices = prices['historical'][-900:]\n",
    "\n",
    "  prices = pd.DataFrame(prices) \n",
    "  \n",
    "  empresas[stock] = prices.set_index('date')\n",
    "  empresas[stock] = empresas[stock]['close']\n",
    "\n",
    "#Concatenate each of the dataframes into a single dataframe\n",
    "portfolio = pd.concat(empresas, axis=1)\n",
    "#print(portfolio)\n",
    "\n",
    "return_stocks = portfolio.pct_change()\n",
    "return_stocks.head(10)\n",
    "\n",
    "daily_returns_portfolio_mean = return_stocks.mean()\n",
    "print(daily_returns_portfolio_mean)\n",
    "\n",
    "allocated_daily_returns = (initial_weight * daily_returns_portfolio_mean)\n",
    "\n",
    "portfolio_return = np.sum(allocated_daily_returns)\n",
    "print(portfolio_return)\n",
    "\n",
    "# calculate portfolio daily returns\n",
    "return_stocks['portfolio_daily_returns'] = return_stocks.dot(initial_weight)\n",
    "return_stocks\n"
   ]
  },
  {
   "cell_type": "code",
   "execution_count": 2,
   "metadata": {},
   "outputs": [
    {
     "name": "stdout",
     "output_type": "stream",
     "text": [
      "{'Error Message': 'Limit Reach . Please upgrade your plan or visit our documentation for more details at https://financialmodelingprep.com/developer/docs/pricing '}\n",
      "{'Error Message': 'Limit Reach . Please upgrade your plan or visit our documentation for more details at https://financialmodelingprep.com/developer/docs/pricing '}\n",
      "{'Error Message': 'Limit Reach . Please upgrade your plan or visit our documentation for more details at https://financialmodelingprep.com/developer/docs/pricing '}\n"
     ]
    }
   ],
   "source": [
    "import requests\n",
    "import os\n",
    "import numpy\n",
    "apikey = os.environ.get('apikey')\n",
    "\n",
    "\n",
    "stocks = ['AAPL','MSFT','GOOG']\n",
    "for stock in stocks:\n",
    "    income_statement = requests.get(f'https://financialmodelingprep.com/api/v3/balance-sheet-statement/{stock}?apikey={apikey}').json()\n",
    "    print(income_statement)"
   ]
  },
  {
   "cell_type": "code",
   "execution_count": null,
   "metadata": {},
   "outputs": [],
   "source": []
  },
  {
   "cell_type": "code",
   "execution_count": null,
   "metadata": {},
   "outputs": [],
   "source": []
  },
  {
   "cell_type": "code",
   "execution_count": null,
   "metadata": {},
   "outputs": [],
   "source": []
  }
 ],
 "metadata": {
  "kernelspec": {
   "display_name": "Python 3",
   "language": "python",
   "name": "python3"
  }
 },
 "nbformat": 4,
 "nbformat_minor": 4
}
