{
 "cells": [
  {
   "cell_type": "code",
   "execution_count": null,
   "metadata": {},
   "outputs": [],
   "source": [
    "import requests\n",
    "import pandas as pd \n",
    "\n",
    "companies = ['AAPL','GOOGL','FB','MSFT']\n",
    "\n",
    "Current_ratio_dictionary = {}\n",
    "\n",
    "for company in companies:\n",
    "  Current_ratio_dictionary[company] = {}\n",
    "  BS = requests.get(f'https://financialmodelingprep.com/api/v3/financials/balance-sheet-statement/{company}').json()\n",
    "  Current_ratio_dictionary[company]['Current_Assets'] = float(BS['financials'][0]['Total current assets'])\n",
    "  Current_ratio_dictionary[company]['Current_Liabilities'] = float(BS['financials'][0]['Total current liabilities'])\n",
    "  Current_ratio_dictionary[company]['Current_Ratio'] = Current_ratio_dictionary[company]['Current_Assets']/ Current_ratio_dictionary[company]['Current_Liabilities']\n",
    "\n",
    "Current_ratio_dictionary\n",
    "\n",
    "Current_ratio_dataframe = pd.DataFrame.from_dict(Current_ratio_dictionary, orient='index')\n",
    "\n",
    "#Graph\n",
    "import plotly.express as px\n",
    "fig = px.bar(Current_ratio_dataframe, x=Current_ratio_dataframe.index, y=Current_ratio_dataframe['Current_Ratio'])\n",
    "fig.show()"
   ]
  }
 ],
 "metadata": {
  "kernelspec": {
   "display_name": "Python 3",
   "language": "python",
   "name": "python3"
  },
  "language_info": {
   "codemirror_mode": {
    "name": "ipython",
    "version": 3
   },
   "file_extension": ".py",
   "mimetype": "text/x-python",
   "name": "python",
   "nbconvert_exporter": "python",
   "pygments_lexer": "ipython3",
   "version": "3.7.6"
  }
 },
 "nbformat": 4,
 "nbformat_minor": 4
}
