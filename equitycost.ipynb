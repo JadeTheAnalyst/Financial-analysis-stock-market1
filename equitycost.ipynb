{
 "cells": [
  {
   "cell_type": "code",
   "execution_count": null,
   "metadata": {},
   "outputs": [],
   "source": [
    "import pandas as pd\n",
    "import requests\n",
    "\n",
    "demo = 'demo'\n",
    "\n",
    "def cost_of_equity(stock):\n",
    "    IS = requests.get(f'https://financialmodelingprep.com/api/v3/financials/income-statement/{stock}?apikey={demo}')\n",
    "    IS = IS.json()\n",
    "    dividend = IS['financials']\n",
    "    Dtoday = float(dividend[0]['Dividend per Share'])\n",
    "\n",
    "\n",
    "    #get dividend growht from previous 3 year dividends\n",
    "    Div_2y = float(IS['financials'][1]['Dividend per Share'])\n",
    "    Div_3y = float(IS['financials'][2]['Dividend per Share'])\n",
    "    Div_4y = float(IS['financials'][3]['Dividend per Share'])\n",
    "    dividend_growth = ( Div_2y - Div_4y)/Div_4y\n",
    "\n",
    "    #price of the stock\n",
    "    ccompany_info = requests.get(f\"https://financialmodelingprep.com/api/v3/company/profile/{stock}?apikey={demo}\")\n",
    "    ccompany_info = ccompany_info.json()\n",
    "    price =  float(ccompany_info['profile']['price'])\n",
    "\n",
    "    #calculate cost of equity\n",
    "    ke = (Dtoday*(1+dividend_growth)/price) + dividend_growth\n",
    "\n",
    "    print(ke)\n",
    "\n",
    "cost_of_equity('AAPL')"
   ]
  },
  {
   "cell_type": "code",
   "execution_count": null,
   "metadata": {},
   "outputs": [],
   "source": [
    " #what if we reduce the dividend growth\n",
    "    dividend_growth = dividend_growth / 2\n",
    "\n",
    "    ke_lower_growth = (Dtoday*(1+dividend_growth)/price) + dividend_growth\n",
    "    print(ke_lower_growth)"
   ]
  }
 ],
 "metadata": {
  "kernelspec": {
   "display_name": "Python 3",
   "language": "python",
   "name": "python3"
  },
  "language_info": {
   "codemirror_mode": {
    "name": "ipython",
    "version": 3
   },
   "file_extension": ".py",
   "mimetype": "text/x-python",
   "name": "python",
   "nbconvert_exporter": "python",
   "pygments_lexer": "ipython3",
   "version": "3.7.6"
  }
 },
 "nbformat": 4,
 "nbformat_minor": 4
}
