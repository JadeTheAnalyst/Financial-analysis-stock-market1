{
 "cells": [
  {
   "cell_type": "code",
   "execution_count": null,
   "metadata": {},
   "outputs": [],
   "source": [
    "import requests\n",
    "\n",
    "def valuecompany(quote):\n",
    " #getting the latest dividend\n",
    "   dividend = \n",
    "requests.get(f'https://financialmodelingprep.com/api/v3/financials/income-statement/{quote}')\n",
    "    dividend = dividend.json()\n",
    "    dividend = dividend['financials']\n",
    "    Dtoday = float(dividend[0]['Dividend per Share'])\n",
    "    print(Dtoday)\n",
    "\n",
    "\n",
    "valuecompany('JNJ')"
   ]
  },
  {
   "cell_type": "code",
   "execution_count": null,
   "metadata": {},
   "outputs": [],
   "source": [
    " metrics = requests.get(f'https://financialmodelingprep.com/api/v3/company-key-metrics/{quote}')\n",
    "    metrics = metrics.json()\n",
    "\n",
    "    ROE = float(metrics['metrics'][0]['ROE'])\n",
    "    payout_ratio = float(metrics['metrics'][0]['Payout Ratio'])\n",
    "\n",
    "    sustgrwothrate = ROE*(1-payout_ratio)\n",
    "    print(sustgrwothrate)\n",
    "\n",
    "#Result\n",
    "0.097024\n",
    "The sustainable growth rate for JNJ is of 9.7%"
   ]
  },
  {
   "cell_type": "code",
   "execution_count": null,
   "metadata": {},
   "outputs": [],
   "source": [
    " import pandas as pd\n",
    "    #if you get an error after executing the code, try adding below:\n",
    "    pd.core.common.is_list_like = pd.api.types.is_list_like\n",
    "\n",
    "    import pandas_datareader.data as web\n",
    "    import datetime\n",
    "\n",
    "    start = datetime.datetime(2019, 2, 1)\n",
    "    end = datetime.datetime(2020, 2, 27)\n",
    "\n",
    "    Treasury = web.DataReader(['TB1YR'], 'fred', start, end)\n",
    "    RF = float(Treasury.iloc[-1])\n",
    "    RF = RF/100\n",
    "    print(RF)\n"
   ]
  },
  {
   "cell_type": "code",
   "execution_count": null,
   "metadata": {},
   "outputs": [],
   "source": [
    "beta = requests.get(f'https://financialmodelingprep.com/api/v3/company/profile/{quote}')\n",
    "    beta = beta.json()\n",
    "    beta = float(beta['profile']['beta'])\n",
    "    print(beta)"
   ]
  },
  {
   "cell_type": "code",
   "execution_count": null,
   "metadata": {},
   "outputs": [],
   "source": [
    "start = datetime.datetime(2019, 2, 15)\n",
    "    end = datetime.datetime(2020, 2, 15) \n",
    "    SP500 = web.DataReader(['sp500'], 'fred', start, end)\n",
    "\n",
    "    #Drop all Not a number values using drop method.\n",
    "    SP500.dropna(inplace = True)\n",
    "\n",
    "    SP500yearlyreturn = (SP500['sp500'].iloc[-1]/ SP500['sp500'].iloc[0])-1\n",
    "    print(SP500yearlyreturn)"
   ]
  },
  {
   "cell_type": "code",
   "execution_count": null,
   "metadata": {},
   "outputs": [],
   "source": [
    "ke = RF+(beta*(SP500yearlyreturn - RF))\n",
    "print(ke)"
   ]
  },
  {
   "cell_type": "code",
   "execution_count": null,
   "metadata": {},
   "outputs": [],
   "source": [
    "  DDM = (Dtoday*(1+sustgrwothrate))/(ke-sustgrwothrate)\n",
    "    return DDM"
   ]
  },
  {
   "cell_type": "code",
   "execution_count": null,
   "metadata": {},
   "outputs": [],
   "source": [
    "import requests\n",
    "\n",
    "def valuecompany(quote):\n",
    "    #Latest dividend of the company\n",
    "    dividend = requests.get(f'https://financialmodelingprep.com/api/v3/financials/income-statement/{quote}')\n",
    "    dividend = dividend.json()\n",
    "    dividend = dividend['financials']\n",
    "    Dtoday = float(dividend[0]['Dividend per Share'])\n",
    "    \n",
    "    #ROE and PAyout Ratio\n",
    "    metrics = requests.get(f'https://financialmodelingprep.com/api/v3/company-key-metrics/{quote}')\n",
    "    metrics = metrics.json()\n",
    "\n",
    "    ROE = float(metrics['metrics'][0]['ROE'])\n",
    "    payout_ratio = float(metrics['metrics'][0]['Payout Ratio'])\n",
    "\n",
    "    sustgrwothrate = ROE*(1-payout_ratio)\n",
    "    print(sustgrwothrate)\n",
    "    \n",
    "     ##Cost of equity:\n",
    "\n",
    "    #Risk Free Rate\n",
    "\n",
    "    import pandas as pd\n",
    "    #if you get an error after executing the code, try adding below:\n",
    "    pd.core.common.is_list_like = pd.api.types.is_list_like\n",
    "\n",
    "    import pandas_datareader.data as web\n",
    "    import datetime\n",
    "\n",
    "    start = datetime.datetime(2019, 2, 1)\n",
    "    end = datetime.datetime(2020, 2, 27)\n",
    "\n",
    "    Treasury = web.DataReader(['TB1YR'], 'fred', start, end)\n",
    "    RF = float(Treasury.iloc[-1])\n",
    "    RF = RF/100\n",
    "    \n",
    "    #Beta\n",
    "    beta = requests.get(f'https://financialmodelingprep.com/api/v3/company/profile/{quote}')\n",
    "    beta = beta.json()\n",
    "    beta = float(beta['profile']['beta'])\n",
    "    \n",
    "    #Market Return\n",
    "    start = datetime.datetime(2019, 1, 1)\n",
    "    end = datetime.datetime(2020, 2, 27)\n",
    "\n",
    "    SP500 = web.DataReader(['sp500'], 'fred', start, end)\n",
    "    #Drop all Not a number values using drop method.\n",
    "    SP500.dropna(inplace = True)\n",
    "\n",
    "    SP500yearlyreturn = (SP500['sp500'].iloc[-1]/ SP500['sp500'].iloc[0])-1\n",
    "   \n",
    "    ke = RF+(beta*(SP500yearlyreturn - RF))\n",
    "    \n",
    "    DDM = (Dtoday*(1+sustgrwothrate))/(ke-sustgrwothrate)\n",
    "    print(DDM)\n",
    "    return DDM\n",
    "\n",
    "\n",
    "valuecompany('JNJ')"
   ]
  },
  {
   "cell_type": "code",
   "execution_count": null,
   "metadata": {},
   "outputs": [],
   "source": []
  }
 ],
 "metadata": {
  "kernelspec": {
   "display_name": "Python 3",
   "language": "python",
   "name": "python3"
  },
  "language_info": {
   "codemirror_mode": {
    "name": "ipython",
    "version": 3
   },
   "file_extension": ".py",
   "mimetype": "text/x-python",
   "name": "python",
   "nbconvert_exporter": "python",
   "pygments_lexer": "ipython3",
   "version": "3.7.6"
  }
 },
 "nbformat": 4,
 "nbformat_minor": 4
}
